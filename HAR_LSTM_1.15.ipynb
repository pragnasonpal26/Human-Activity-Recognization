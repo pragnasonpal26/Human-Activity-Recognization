{
 "cells": [
  {
   "cell_type": "markdown",
   "metadata": {
    "collapsed": true
   },
   "source": [
    "## Importing Libraries"
   ]
  },
  {
   "cell_type": "code",
   "execution_count": 64,
   "metadata": {},
   "outputs": [],
   "source": [
    "import pandas as pd\n",
    "import numpy as np"
   ]
  },
  {
   "cell_type": "code",
   "execution_count": 65,
   "metadata": {},
   "outputs": [],
   "source": [
    "# Activities are the class labels\n",
    "# It is a 6 class classification\n",
    "ACTIVITIES = {\n",
    "    0: 'WALKING',\n",
    "    1: 'WALKING_UPSTAIRS',\n",
    "    2: 'WALKING_DOWNSTAIRS',\n",
    "    3: 'SITTING',\n",
    "    4: 'STANDING',\n",
    "    5: 'LAYING',\n",
    "}\n",
    "\n",
    "# Utility function to print the confusion matrix\n",
    "def confusion_matrix(Y_true, Y_pred):\n",
    "    Y_true = pd.Series([ACTIVITIES[y] for y in np.argmax(Y_true, axis=1)])\n",
    "    Y_pred = pd.Series([ACTIVITIES[y] for y in np.argmax(Y_pred, axis=1)])\n",
    "\n",
    "    return pd.crosstab(Y_true, Y_pred, rownames=['True'], colnames=['Pred'])"
   ]
  },
  {
   "cell_type": "markdown",
   "metadata": {},
   "source": [
    "### Data"
   ]
  },
  {
   "cell_type": "code",
   "execution_count": 66,
   "metadata": {},
   "outputs": [],
   "source": [
    "# Data directory\n",
    "DATADIR = 'UCI_HAR_Dataset'"
   ]
  },
  {
   "cell_type": "code",
   "execution_count": 67,
   "metadata": {},
   "outputs": [],
   "source": [
    "# Raw data signals\n",
    "# Signals are from Accelerometer and Gyroscope\n",
    "# The signals are in x,y,z directions\n",
    "# Sensor signals are filtered to have only body acceleration\n",
    "# excluding the acceleration due to gravity\n",
    "# Triaxial acceleration from the accelerometer is total acceleration\n",
    "SIGNALS = [\n",
    "    \"body_acc_x\",\n",
    "    \"body_acc_y\",\n",
    "    \"body_acc_z\",\n",
    "    \"body_gyro_x\",\n",
    "    \"body_gyro_y\",\n",
    "    \"body_gyro_z\",\n",
    "    \"total_acc_x\",\n",
    "    \"total_acc_y\",\n",
    "    \"total_acc_z\"\n",
    "]"
   ]
  },
  {
   "cell_type": "markdown",
   "metadata": {},
   "source": [
    "### custom functions to read the data from csv file and to read signals"
   ]
  },
  {
   "cell_type": "code",
   "execution_count": 68,
   "metadata": {},
   "outputs": [],
   "source": [
    "\n",
    "def _read_csv(filename):\n",
    "    return pd.read_csv(filename, delim_whitespace=True, header=None)\n",
    "\n",
    "# Utility function to load the load\n",
    "def load_signals(subset):\n",
    "    signals_data = []\n",
    "\n",
    "    for signal in SIGNALS:\n",
    "        filename = f'UCI_HAR_Dataset/{subset}/Inertial Signals/{signal}_{subset}.txt'\n",
    "        signals_data.append(\n",
    "            _read_csv(filename).as_matrix()\n",
    "        ) \n",
    "\n",
    "    # Transpose is used to change the dimensionality of the output,\n",
    "    # aggregating the signals by combination of sample/timestep.\n",
    "    # Resultant shape is (7352 train/2947 test samples, 128 timesteps, 9 signals)\n",
    "    return np.transpose(signals_data, (1, 2, 0))"
   ]
  },
  {
   "cell_type": "code",
   "execution_count": 69,
   "metadata": {},
   "outputs": [],
   "source": [
    "def load_y(subset):\n",
    "    \"\"\"\n",
    "    The objective that we are trying to predict is a integer, from 1 to 6,\n",
    "    that represents a human activity. We return a binary representation of \n",
    "    every sample objective as a 6 bits vector using One Hot Encoding\n",
    "    (https://pandas.pydata.org/pandas-docs/stable/generated/pandas.get_dummies.html)\n",
    "    \"\"\"\n",
    "    filename = f'UCI_HAR_Dataset/{subset}/y_{subset}.txt'\n",
    "    y = _read_csv(filename)[0]\n",
    "\n",
    "    return pd.get_dummies(y).as_matrix()"
   ]
  },
  {
   "cell_type": "code",
   "execution_count": 70,
   "metadata": {},
   "outputs": [],
   "source": [
    "def load_data():\n",
    "    \"\"\"\n",
    "    Obtain the dataset from multiple files.\n",
    "    Returns: X_train, X_test, y_train, y_test\n",
    "    \"\"\"\n",
    "    X_train, X_test = load_signals('train'), load_signals('test')\n",
    "    y_train, y_test = load_y('train'), load_y('test')\n",
    "\n",
    "    return X_train, X_test, y_train, y_test"
   ]
  },
  {
   "cell_type": "code",
   "execution_count": 71,
   "metadata": {},
   "outputs": [],
   "source": [
    "# Importing tensorflow\n",
    "np.random.seed(42)\n",
    "import tensorflow as tf\n",
    "\n",
    "tf.set_random_seed(42)"
   ]
  },
  {
   "cell_type": "code",
   "execution_count": 72,
   "metadata": {},
   "outputs": [],
   "source": [
    "# Configuring a session\n",
    "session_conf = tf.ConfigProto(\n",
    "    intra_op_parallelism_threads=1,\n",
    "    inter_op_parallelism_threads=1\n",
    ")"
   ]
  },
  {
   "cell_type": "code",
   "execution_count": 73,
   "metadata": {},
   "outputs": [],
   "source": [
    "# Import Keras\n",
    "\n",
    "from keras import backend as K\n",
    "# import tensorflow.compat.v1 as tf\n",
    "# import tensorflow.compat.v1.python.keras.backend as K\n",
    "sess = tf.Session(graph=tf.get_default_graph(), config=session_conf)\n",
    "K.set_session(sess)\n",
    "\n",
    "\n",
    "# sess = K.get_session()"
   ]
  },
  {
   "cell_type": "code",
   "execution_count": 74,
   "metadata": {},
   "outputs": [],
   "source": [
    "# Importing libraries\n",
    "from keras.models import Sequential\n",
    "from keras.layers import LSTM\n",
    "from keras.layers.core import Dense, Dropout\n",
    "from keras.layers.normalization import BatchNormalization"
   ]
  },
  {
   "cell_type": "code",
   "execution_count": 75,
   "metadata": {},
   "outputs": [],
   "source": [
    "# Utility function to count the number of classes\n",
    "def _count_classes(y):\n",
    "    return len(set([tuple(category) for category in y]))"
   ]
  },
  {
   "cell_type": "code",
   "execution_count": 76,
   "metadata": {},
   "outputs": [
    {
     "name": "stderr",
     "output_type": "stream",
     "text": [
      "c:\\users\\nehar\\appdata\\local\\programs\\python\\python36\\lib\\site-packages\\ipykernel_launcher.py:11: FutureWarning: Method .as_matrix will be removed in a future version. Use .values instead.\n",
      "  # This is added back by InteractiveShellApp.init_path()\n"
     ]
    }
   ],
   "source": [
    "# Loading the train and test data\n",
    "X_train, X_test, Y_train, Y_test = load_data()"
   ]
  },
  {
   "cell_type": "markdown",
   "metadata": {},
   "source": [
    "### spliting train data in train and valid"
   ]
  },
  {
   "cell_type": "code",
   "execution_count": 77,
   "metadata": {},
   "outputs": [],
   "source": [
    "from sklearn.model_selection import train_test_split\n",
    "\n",
    "X_train, X_valid, Y_train, Y_valid = train_test_split(X_train, Y_train, test_size=0.10, random_state=42)"
   ]
  },
  {
   "cell_type": "code",
   "execution_count": 78,
   "metadata": {},
   "outputs": [
    {
     "data": {
      "text/plain": [
       "(6616, 128, 9)"
      ]
     },
     "execution_count": 78,
     "metadata": {},
     "output_type": "execute_result"
    }
   ],
   "source": [
    "X_train.shape"
   ]
  },
  {
   "cell_type": "code",
   "execution_count": 79,
   "metadata": {},
   "outputs": [
    {
     "data": {
      "text/plain": [
       "(736, 128, 9)"
      ]
     },
     "execution_count": 79,
     "metadata": {},
     "output_type": "execute_result"
    }
   ],
   "source": [
    "X_valid.shape"
   ]
  },
  {
   "cell_type": "code",
   "execution_count": 80,
   "metadata": {},
   "outputs": [
    {
     "name": "stdout",
     "output_type": "stream",
     "text": [
      "128\n",
      "9\n",
      "6616\n"
     ]
    }
   ],
   "source": [
    "timesteps = len(X_train[0])\n",
    "input_dim = len(X_train[0][0])\n",
    "n_classes = _count_classes(Y_train)\n",
    "\n",
    "print(timesteps)\n",
    "print(input_dim)\n",
    "print(len(X_train))"
   ]
  },
  {
   "cell_type": "markdown",
   "metadata": {},
   "source": [
    "### MODEL 1"
   ]
  },
  {
   "cell_type": "code",
   "execution_count": 81,
   "metadata": {},
   "outputs": [],
   "source": [
    "epochs = 30\n",
    "batch_size = 32\n",
    "n_hidden = 128\n",
    "pv = 0.25"
   ]
  },
  {
   "cell_type": "markdown",
   "metadata": {},
   "source": [
    "### Defining the model structure of LSTM"
   ]
  },
  {
   "cell_type": "code",
   "execution_count": 82,
   "metadata": {},
   "outputs": [
    {
     "name": "stdout",
     "output_type": "stream",
     "text": [
      "Model: \"sequential_5\"\n",
      "_________________________________________________________________\n",
      "Layer (type)                 Output Shape              Param #   \n",
      "=================================================================\n",
      "lstm_6 (LSTM)                (None, 128)               70656     \n",
      "_________________________________________________________________\n",
      "batch_normalization_4 (Batch (None, 128)               512       \n",
      "_________________________________________________________________\n",
      "dropout_6 (Dropout)          (None, 128)               0         \n",
      "_________________________________________________________________\n",
      "dense_5 (Dense)              (None, 6)                 774       \n",
      "=================================================================\n",
      "Total params: 71,942\n",
      "Trainable params: 71,686\n",
      "Non-trainable params: 256\n",
      "_________________________________________________________________\n"
     ]
    }
   ],
   "source": [
    "# Initiliazing the sequential model\n",
    "model = Sequential()\n",
    "# Configuring the parameters\n",
    "model.add(LSTM(n_hidden, input_shape=(timesteps, input_dim)))\n",
    "model.add(BatchNormalization())\n",
    "# Adding a dropout layer\n",
    "model.add(Dropout(pv))\n",
    "# Adding a dense output layer with sigmoid activation\n",
    "model.add(Dense(n_classes, activation='sigmoid'))\n",
    "model.summary()"
   ]
  },
  {
   "cell_type": "code",
   "execution_count": 83,
   "metadata": {},
   "outputs": [],
   "source": [
    "# Compiling the model\n",
    "model.compile(loss='categorical_crossentropy',\n",
    "              optimizer='rmsprop',\n",
    "              metrics=['accuracy'])"
   ]
  },
  {
   "cell_type": "code",
   "execution_count": 84,
   "metadata": {},
   "outputs": [
    {
     "name": "stdout",
     "output_type": "stream",
     "text": [
      "Train on 6616 samples, validate on 736 samples\n",
      "Epoch 1/30\n",
      "6616/6616 [==============================] - 23s 4ms/step - loss: 0.9965 - accuracy: 0.5778 - val_loss: 0.9147 - val_accuracy: 0.6114\n",
      "Epoch 2/30\n",
      "6616/6616 [==============================] - 24s 4ms/step - loss: 0.7300 - accuracy: 0.6377 - val_loss: 0.6895 - val_accuracy: 0.6101\n",
      "Epoch 3/30\n",
      "6616/6616 [==============================] - 25s 4ms/step - loss: 0.6448 - accuracy: 0.7051 - val_loss: 0.4824 - val_accuracy: 0.7663\n",
      "Epoch 4/30\n",
      "6616/6616 [==============================] - 25s 4ms/step - loss: 0.4428 - accuracy: 0.8378 - val_loss: 0.6608 - val_accuracy: 0.8288\n",
      "Epoch 5/30\n",
      "6616/6616 [==============================] - 25s 4ms/step - loss: 0.2799 - accuracy: 0.9046 - val_loss: 0.1817 - val_accuracy: 0.9280\n",
      "Epoch 6/30\n",
      "6616/6616 [==============================] - 26s 4ms/step - loss: 0.1997 - accuracy: 0.9290 - val_loss: 0.1533 - val_accuracy: 0.9497\n",
      "Epoch 7/30\n",
      "6616/6616 [==============================] - 26s 4ms/step - loss: 0.1829 - accuracy: 0.9311 - val_loss: 0.1519 - val_accuracy: 0.9592\n",
      "Epoch 8/30\n",
      "6616/6616 [==============================] - 25s 4ms/step - loss: 0.1675 - accuracy: 0.9374 - val_loss: 0.1153 - val_accuracy: 0.9552\n",
      "Epoch 9/30\n",
      "6616/6616 [==============================] - 25s 4ms/step - loss: 0.1742 - accuracy: 0.9333 - val_loss: 0.1188 - val_accuracy: 0.9592\n",
      "Epoch 10/30\n",
      "6616/6616 [==============================] - 25s 4ms/step - loss: 0.1532 - accuracy: 0.9373 - val_loss: 0.1059 - val_accuracy: 0.9647\n",
      "Epoch 11/30\n",
      "6616/6616 [==============================] - 25s 4ms/step - loss: 0.1638 - accuracy: 0.9373 - val_loss: 0.1167 - val_accuracy: 0.9524\n",
      "Epoch 12/30\n",
      "6616/6616 [==============================] - 26s 4ms/step - loss: 0.1374 - accuracy: 0.9418 - val_loss: 0.1021 - val_accuracy: 0.9524\n",
      "Epoch 13/30\n",
      "6616/6616 [==============================] - 25s 4ms/step - loss: 0.1309 - accuracy: 0.9441 - val_loss: 0.0981 - val_accuracy: 0.9552\n",
      "Epoch 14/30\n",
      "6616/6616 [==============================] - 25s 4ms/step - loss: 0.1314 - accuracy: 0.9450 - val_loss: 0.3300 - val_accuracy: 0.9226\n",
      "Epoch 15/30\n",
      "6616/6616 [==============================] - 25s 4ms/step - loss: 0.1382 - accuracy: 0.9433 - val_loss: 0.0945 - val_accuracy: 0.9660\n",
      "Epoch 16/30\n",
      "6616/6616 [==============================] - 26s 4ms/step - loss: 0.1298 - accuracy: 0.9479 - val_loss: 0.0979 - val_accuracy: 0.9592\n",
      "Epoch 17/30\n",
      "6616/6616 [==============================] - 33s 5ms/step - loss: 0.1351 - accuracy: 0.9466 - val_loss: 0.1044 - val_accuracy: 0.9565\n",
      "Epoch 18/30\n",
      "6616/6616 [==============================] - 41s 6ms/step - loss: 0.1289 - accuracy: 0.9482 - val_loss: 0.1363 - val_accuracy: 0.9620\n",
      "Epoch 19/30\n",
      "6616/6616 [==============================] - 43s 6ms/step - loss: 0.1511 - accuracy: 0.9465 - val_loss: 0.1099 - val_accuracy: 0.9565\n",
      "Epoch 20/30\n",
      "6616/6616 [==============================] - 27s 4ms/step - loss: 0.1343 - accuracy: 0.9488 - val_loss: 0.1270 - val_accuracy: 0.9592\n",
      "Epoch 21/30\n",
      "6616/6616 [==============================] - 26s 4ms/step - loss: 0.1208 - accuracy: 0.9509 - val_loss: 0.1167 - val_accuracy: 0.9633\n",
      "Epoch 22/30\n",
      "6616/6616 [==============================] - 26s 4ms/step - loss: 0.1239 - accuracy: 0.9479 - val_loss: 0.0994 - val_accuracy: 0.9552\n",
      "Epoch 23/30\n",
      "6616/6616 [==============================] - 26s 4ms/step - loss: 0.1268 - accuracy: 0.9513 - val_loss: 0.0951 - val_accuracy: 0.9565\n",
      "Epoch 24/30\n",
      "6616/6616 [==============================] - 26s 4ms/step - loss: 0.1205 - accuracy: 0.9512 - val_loss: 0.1162 - val_accuracy: 0.9620\n",
      "Epoch 25/30\n",
      "6616/6616 [==============================] - 26s 4ms/step - loss: 0.1189 - accuracy: 0.9516 - val_loss: 0.1137 - val_accuracy: 0.9579\n",
      "Epoch 26/30\n",
      "6616/6616 [==============================] - 26s 4ms/step - loss: 0.1231 - accuracy: 0.9525 - val_loss: 0.1053 - val_accuracy: 0.9579\n",
      "Epoch 27/30\n",
      "6616/6616 [==============================] - 26s 4ms/step - loss: 0.1241 - accuracy: 0.9521 - val_loss: 0.1332 - val_accuracy: 0.9592\n",
      "Epoch 28/30\n",
      "6616/6616 [==============================] - 26s 4ms/step - loss: 0.1100 - accuracy: 0.9557 - val_loss: 0.1216 - val_accuracy: 0.9552\n",
      "Epoch 29/30\n",
      "6616/6616 [==============================] - 26s 4ms/step - loss: 0.1276 - accuracy: 0.9500 - val_loss: 0.1259 - val_accuracy: 0.9633\n",
      "Epoch 30/30\n",
      "6616/6616 [==============================] - 34s 5ms/step - loss: 0.1412 - accuracy: 0.9477 - val_loss: 0.1017 - val_accuracy: 0.9660\n"
     ]
    }
   ],
   "source": [
    "# Training the model\n",
    "history=model.fit(X_train,\n",
    "          Y_train,\n",
    "          batch_size=batch_size,\n",
    "          validation_data=(X_valid, Y_valid),\n",
    "          epochs=epochs)"
   ]
  },
  {
   "cell_type": "code",
   "execution_count": 85,
   "metadata": {},
   "outputs": [
    {
     "name": "stdout",
     "output_type": "stream",
     "text": [
      "dict_keys(['val_loss', 'val_accuracy', 'loss', 'accuracy'])\n"
     ]
    },
    {
     "data": {
      "image/png": "[encoded data removed]",
      "text/plain": [
       "<Figure size 432x288 with 1 Axes>"
      ]
     },
     "metadata": {
      "needs_background": "light"
     },
     "output_type": "display_data"
    }
   ],
   "source": [
    "# list all data in history\n",
    "print(history.history.keys())\n",
    "# summarize history for accuracy\n",
    "plt.plot(history.history['accuracy'])\n",
    "plt.plot(history.history['val_accuracy'])\n",
    "plt.title('model accuracy')\n",
    "plt.ylabel('accuracy')\n",
    "plt.xlabel('epoch')\n",
    "plt.legend(['train', 'test'], loc='upper left')\n",
    "plt.show()"
   ]
  },
  {
   "cell_type": "code",
   "execution_count": 97,
   "metadata": {},
   "outputs": [
    {
     "data": {
      "image/png": "[encoded data removed]",
      "text/plain": [
       "<Figure size 432x288 with 1 Axes>"
      ]
     },
     "metadata": {
      "needs_background": "light"
     },
     "output_type": "display_data"
    }
   ],
   "source": [
    "# summarize history for loss\n",
    "plt.plot(history.history['loss'])\n",
    "plt.plot(history.history['val_loss'])\n",
    "plt.title('model loss')\n",
    "plt.ylabel('loss')\n",
    "plt.xlabel('epoch')\n",
    "plt.legend(['train', 'test'], loc='upper left')\n",
    "plt.show()"
   ]
  },
  {
   "cell_type": "markdown",
   "metadata": {},
   "source": [
    "### Confusion Matrix for true prediction"
   ]
  },
  {
   "cell_type": "code",
   "execution_count": 86,
   "metadata": {},
   "outputs": [
    {
     "name": "stdout",
     "output_type": "stream",
     "text": [
      "Pred                LAYING  SITTING  STANDING  WALKING  WALKING_DOWNSTAIRS  \\\n",
      "True                                                                         \n",
      "LAYING                 537        0         0        0                   0   \n",
      "SITTING                  3      380       105        0                   0   \n",
      "STANDING                 0       86       444        1                   0   \n",
      "WALKING                  0        0         0      468                  20   \n",
      "WALKING_DOWNSTAIRS       0        0         0        6                 408   \n",
      "WALKING_UPSTAIRS         0        2         1        8                   1   \n",
      "\n",
      "Pred                WALKING_UPSTAIRS  \n",
      "True                                  \n",
      "LAYING                             0  \n",
      "SITTING                            3  \n",
      "STANDING                           1  \n",
      "WALKING                            8  \n",
      "WALKING_DOWNSTAIRS                 6  \n",
      "WALKING_UPSTAIRS                 459  \n"
     ]
    }
   ],
   "source": [
    "print(confusion_matrix(Y_test, model.predict(X_test)))"
   ]
  },
  {
   "cell_type": "code",
   "execution_count": 87,
   "metadata": {},
   "outputs": [
    {
     "name": "stdout",
     "output_type": "stream",
     "text": [
      "2947/2947 [==============================] - 2s 750us/step\n"
     ]
    }
   ],
   "source": [
    "score = model.evaluate(X_test, Y_test)"
   ]
  },
  {
   "cell_type": "code",
   "execution_count": 88,
   "metadata": {},
   "outputs": [
    {
     "data": {
      "text/plain": [
       "[0.2900611591536101, 0.9148286581039429]"
      ]
     },
     "execution_count": 88,
     "metadata": {},
     "output_type": "execute_result"
    }
   ],
   "source": [
    "score"
   ]
  },
  {
   "cell_type": "markdown",
   "metadata": {},
   "source": [
    "- With a simple semi tuned LSTM structure we got 91.48% accuracy and a loss of 0.29"
   ]
  },
  {
   "cell_type": "markdown",
   "metadata": {},
   "source": [
    "### LSTM Model2\n",
    "\n",
    "##### Implementing LSTM with more hidden and dropout layers"
   ]
  },
  {
   "cell_type": "code",
   "execution_count": 89,
   "metadata": {},
   "outputs": [],
   "source": [
    "epochs1 = 30\n",
    "batch_size1= 32\n",
    "n_hidden1 = 128\n",
    "n_hidden2 =64\n",
    "pv1 = 0.2\n",
    "pv2 = 0.5"
   ]
  },
  {
   "cell_type": "markdown",
   "metadata": {},
   "source": [
    "- Defining the Architecture of LSTM"
   ]
  },
  {
   "cell_type": "code",
   "execution_count": 90,
   "metadata": {},
   "outputs": [
    {
     "name": "stdout",
     "output_type": "stream",
     "text": [
      "Model: \"sequential_6\"\n",
      "_________________________________________________________________\n",
      "Layer (type)                 Output Shape              Param #   \n",
      "=================================================================\n",
      "lstm_7 (LSTM)                (None, 128, 128)          70656     \n",
      "_________________________________________________________________\n",
      "dropout_7 (Dropout)          (None, 128, 128)          0         \n",
      "_________________________________________________________________\n",
      "lstm_8 (LSTM)                (None, 64)                49408     \n",
      "_________________________________________________________________\n",
      "dropout_8 (Dropout)          (None, 64)                0         \n",
      "_________________________________________________________________\n",
      "dense_6 (Dense)              (None, 6)                 390       \n",
      "=================================================================\n",
      "Total params: 120,454\n",
      "Trainable params: 120,454\n",
      "Non-trainable params: 0\n",
      "_________________________________________________________________\n"
     ]
    }
   ],
   "source": [
    "# Initiliazing the sequential model\n",
    "model1 = Sequential()\n",
    "# Configuring the parameters\n",
    "model1.add(LSTM(n_hidden1, return_sequences=True, input_shape=(timesteps, input_dim)))\n",
    "# Adding a dropout layer\n",
    "model1.add(Dropout(pv1))\n",
    "\n",
    "model1.add(LSTM(n_hidden2))\n",
    "# Adding a dropout layer\n",
    "model1.add(Dropout(pv2))\n",
    "# Adding a dense output layer with sigmoid activation\n",
    "model1.add(Dense(n_classes, activation='sigmoid'))\n",
    "model1.summary()"
   ]
  },
  {
   "cell_type": "code",
   "execution_count": 91,
   "metadata": {},
   "outputs": [],
   "source": [
    "# Compiling the model\n",
    "model1.compile(loss='categorical_crossentropy',\n",
    "              optimizer='rmsprop',\n",
    "              metrics=['accuracy'])"
   ]
  },
  {
   "cell_type": "code",
   "execution_count": 92,
   "metadata": {},
   "outputs": [
    {
     "name": "stdout",
     "output_type": "stream",
     "text": [
      "Train on 6616 samples, validate on 736 samples\n",
      "Epoch 1/30\n",
      "6616/6616 [==============================] - 45s 7ms/step - loss: 1.1603 - accuracy: 0.5109 - val_loss: 0.8178 - val_accuracy: 0.6291\n",
      "Epoch 2/30\n",
      "6616/6616 [==============================] - 47s 7ms/step - loss: 0.7779 - accuracy: 0.6454 - val_loss: 0.6567 - val_accuracy: 0.6807\n",
      "Epoch 3/30\n",
      "6616/6616 [==============================] - 47s 7ms/step - loss: 0.6537 - accuracy: 0.7234 - val_loss: 0.4803 - val_accuracy: 0.7908\n",
      "Epoch 4/30\n",
      "6616/6616 [==============================] - 47s 7ms/step - loss: 0.5562 - accuracy: 0.7609 - val_loss: 0.3747 - val_accuracy: 0.8179\n",
      "Epoch 5/30\n",
      "6616/6616 [==============================] - 50s 8ms/step - loss: 0.4449 - accuracy: 0.8179 - val_loss: 0.3135 - val_accuracy: 0.8940\n",
      "Epoch 6/30\n",
      "6616/6616 [==============================] - 48s 7ms/step - loss: 0.3263 - accuracy: 0.8937 - val_loss: 0.2052 - val_accuracy: 0.9348\n",
      "Epoch 7/30\n",
      "6616/6616 [==============================] - 48s 7ms/step - loss: 0.2648 - accuracy: 0.9146 - val_loss: 0.2981 - val_accuracy: 0.9049\n",
      "Epoch 8/30\n",
      "6616/6616 [==============================] - 48s 7ms/step - loss: 0.2033 - accuracy: 0.9330 - val_loss: 0.1049 - val_accuracy: 0.9565\n",
      "Epoch 9/30\n",
      "6616/6616 [==============================] - 49s 7ms/step - loss: 0.1705 - accuracy: 0.9370 - val_loss: 0.1949 - val_accuracy: 0.9348\n",
      "Epoch 10/30\n",
      "6616/6616 [==============================] - 49s 7ms/step - loss: 0.1871 - accuracy: 0.9350 - val_loss: 0.2342 - val_accuracy: 0.9348\n",
      "Epoch 11/30\n",
      "6616/6616 [==============================] - 48s 7ms/step - loss: 0.1742 - accuracy: 0.9392 - val_loss: 0.1048 - val_accuracy: 0.9592\n",
      "Epoch 12/30\n",
      "6616/6616 [==============================] - 49s 7ms/step - loss: 0.1487 - accuracy: 0.9445 - val_loss: 0.1162 - val_accuracy: 0.9633\n",
      "Epoch 13/30\n",
      "6616/6616 [==============================] - 48s 7ms/step - loss: 0.1607 - accuracy: 0.9418 - val_loss: 0.1293 - val_accuracy: 0.9606\n",
      "Epoch 14/30\n",
      "6616/6616 [==============================] - 48s 7ms/step - loss: 0.1521 - accuracy: 0.9453 - val_loss: 0.1257 - val_accuracy: 0.9538\n",
      "Epoch 15/30\n",
      "6616/6616 [==============================] - 49s 7ms/step - loss: 0.1465 - accuracy: 0.9483 - val_loss: 0.1058 - val_accuracy: 0.9633\n",
      "Epoch 16/30\n",
      "6616/6616 [==============================] - 49s 7ms/step - loss: 0.1535 - accuracy: 0.9445 - val_loss: 0.1022 - val_accuracy: 0.9620\n",
      "Epoch 17/30\n",
      "6616/6616 [==============================] - 49s 7ms/step - loss: 0.1345 - accuracy: 0.9485 - val_loss: 0.1006 - val_accuracy: 0.9592\n",
      "Epoch 18/30\n",
      "6616/6616 [==============================] - 61s 9ms/step - loss: 0.1589 - accuracy: 0.9471 - val_loss: 0.5201 - val_accuracy: 0.8832\n",
      "Epoch 19/30\n",
      "6616/6616 [==============================] - 76s 12ms/step - loss: 0.1545 - accuracy: 0.9454 - val_loss: 0.1181 - val_accuracy: 0.9579\n",
      "Epoch 20/30\n",
      "6616/6616 [==============================] - 61s 9ms/step - loss: 0.1388 - accuracy: 0.9465 - val_loss: 0.0889 - val_accuracy: 0.9592\n",
      "Epoch 21/30\n",
      "6616/6616 [==============================] - 52s 8ms/step - loss: 0.1284 - accuracy: 0.9491 - val_loss: 0.0985 - val_accuracy: 0.9592\n",
      "Epoch 22/30\n",
      "6616/6616 [==============================] - 49s 7ms/step - loss: 0.1264 - accuracy: 0.9531 - val_loss: 0.0965 - val_accuracy: 0.9633\n",
      "Epoch 23/30\n",
      "6616/6616 [==============================] - 52s 8ms/step - loss: 0.1247 - accuracy: 0.9463 - val_loss: 0.1399 - val_accuracy: 0.9592\n",
      "Epoch 24/30\n",
      "6616/6616 [==============================] - 48s 7ms/step - loss: 0.1203 - accuracy: 0.9544 - val_loss: 0.0979 - val_accuracy: 0.9606\n",
      "Epoch 25/30\n",
      "6616/6616 [==============================] - 47s 7ms/step - loss: 0.1387 - accuracy: 0.9482 - val_loss: 0.1003 - val_accuracy: 0.9579\n",
      "Epoch 26/30\n",
      "6616/6616 [==============================] - 48s 7ms/step - loss: 0.1211 - accuracy: 0.9547 - val_loss: 0.0983 - val_accuracy: 0.9633\n",
      "Epoch 27/30\n",
      "6616/6616 [==============================] - 47s 7ms/step - loss: 0.1383 - accuracy: 0.9494 - val_loss: 0.0897 - val_accuracy: 0.9633\n",
      "Epoch 28/30\n",
      "6616/6616 [==============================] - 47s 7ms/step - loss: 0.1234 - accuracy: 0.9516 - val_loss: 0.1281 - val_accuracy: 0.9416\n",
      "Epoch 29/30\n",
      "6616/6616 [==============================] - 49s 7ms/step - loss: 0.1196 - accuracy: 0.9528 - val_loss: 0.0922 - val_accuracy: 0.9620\n",
      "Epoch 30/30\n",
      "6616/6616 [==============================] - 48s 7ms/step - loss: 0.1136 - accuracy: 0.9548 - val_loss: 0.0894 - val_accuracy: 0.9606\n"
     ]
    }
   ],
   "source": [
    "# Training the model\n",
    "history=model1.fit(X_train,\n",
    "          Y_train,\n",
    "          batch_size=batch_size,\n",
    "          validation_data=(X_valid, Y_valid),\n",
    "          epochs=epochs1)"
   ]
  },
  {
   "cell_type": "code",
   "execution_count": 93,
   "metadata": {},
   "outputs": [
    {
     "name": "stdout",
     "output_type": "stream",
     "text": [
      "dict_keys(['val_loss', 'val_accuracy', 'loss', 'accuracy'])\n"
     ]
    },
    {
     "data": {
      "image/png": "[encoded data removed]",
      "text/plain": [
       "<Figure size 432x288 with 1 Axes>"
      ]
     },
     "metadata": {
      "needs_background": "light"
     },
     "output_type": "display_data"
    }
   ],
   "source": [
    "# list all data in history\n",
    "print(history.history.keys())\n",
    "# summarize history for accuracy\n",
    "plt.plot(history.history['accuracy'])\n",
    "plt.plot(history.history['val_accuracy'])\n",
    "plt.title('model accuracy')\n",
    "plt.ylabel('accuracy')\n",
    "plt.xlabel('epoch')\n",
    "plt.legend(['train', 'test'], loc='upper left')\n",
    "plt.show()"
   ]
  },
  {
   "cell_type": "code",
   "execution_count": 98,
   "metadata": {},
   "outputs": [
    {
     "data": {
      "image/png": "[encoded data removed]",
      "text/plain": [
       "<Figure size 432x288 with 1 Axes>"
      ]
     },
     "metadata": {
      "needs_background": "light"
     },
     "output_type": "display_data"
    }
   ],
   "source": [
    "# summarize history for loss\n",
    "plt.plot(history.history['loss'])\n",
    "plt.plot(history.history['val_loss'])\n",
    "plt.title('model loss')\n",
    "plt.ylabel('loss')\n",
    "plt.xlabel('epoch')\n",
    "plt.legend(['train', 'test'], loc='upper left')\n",
    "plt.show()"
   ]
  },
  {
   "cell_type": "code",
   "execution_count": 94,
   "metadata": {},
   "outputs": [
    {
     "name": "stdout",
     "output_type": "stream",
     "text": [
      "Pred                LAYING  SITTING  STANDING  WALKING  WALKING_DOWNSTAIRS  \\\n",
      "True                                                                         \n",
      "LAYING                 537        0         0        0                   0   \n",
      "SITTING                  7      392        90        0                   1   \n",
      "STANDING                 0       99       433        0                   0   \n",
      "WALKING                  0        0         0      445                  47   \n",
      "WALKING_DOWNSTAIRS       0        0         0        0                 420   \n",
      "WALKING_UPSTAIRS         0        0         0        1                  10   \n",
      "\n",
      "Pred                WALKING_UPSTAIRS  \n",
      "True                                  \n",
      "LAYING                             0  \n",
      "SITTING                            1  \n",
      "STANDING                           0  \n",
      "WALKING                            4  \n",
      "WALKING_DOWNSTAIRS                 0  \n",
      "WALKING_UPSTAIRS                 460  \n"
     ]
    }
   ],
   "source": [
    "# Confusion Matrix\n",
    "print(confusion_matrix(Y_test, model1.predict(X_test)))"
   ]
  },
  {
   "cell_type": "code",
   "execution_count": 95,
   "metadata": {},
   "outputs": [
    {
     "name": "stdout",
     "output_type": "stream",
     "text": [
      "2947/2947 [==============================] - 4s 1ms/step\n"
     ]
    }
   ],
   "source": [
    "score1 = model1.evaluate(X_test, Y_test)"
   ]
  },
  {
   "cell_type": "code",
   "execution_count": 96,
   "metadata": {},
   "outputs": [
    {
     "data": {
      "text/plain": [
       "[0.3891164319865662, 0.9117746949195862]"
      ]
     },
     "execution_count": 96,
     "metadata": {},
     "output_type": "execute_result"
    }
   ],
   "source": [
    "score1"
   ]
  }
 ],
 "metadata": {
  "kernelspec": {
   "display_name": "Python 3",
   "language": "python",
   "name": "python3"
  },
  "language_info": {
   "codemirror_mode": {
    "name": "ipython",
    "version": 3
   },
   "file_extension": ".py",
   "mimetype": "text/x-python",
   "name": "python",
   "nbconvert_exporter": "python",
   "pygments_lexer": "ipython3",
   "version": "3.6.8"
  }
 },
 "nbformat": 4,
 "nbformat_minor": 2
}
